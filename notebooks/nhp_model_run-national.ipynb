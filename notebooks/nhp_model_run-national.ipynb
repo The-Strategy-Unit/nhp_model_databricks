{
 "cells": [
  {
   "cell_type": "markdown",
   "metadata": {},
   "source": [
    "# Run national version of the NHP model"
   ]
  },
  {
   "cell_type": "code",
   "execution_count": 0,
   "metadata": {
    "application/vnd.databricks.v1+cell": {
     "cellMetadata": {},
     "inputWidgets": {},
     "nuid": "97ce4ab5-3265-42f7-8d58-31820ef694bf",
     "showTitle": false,
     "tableResultSettingsMap": {},
     "title": ""
    }
   },
   "outputs": [],
   "source": [
    "import gzip\n",
    "import multiprocessing as mp\n",
    "import os\n",
    "\n",
    "from datetime import datetime\n",
    "\n",
    "from azure.identity import ManagedIdentityCredential\n",
    "from azure.storage.blob import BlobServiceClient\n",
    "from databricks.connect import DatabricksSession\n",
    "from databricks.sdk import WorkspaceClient\n",
    "\n",
    "from nhp.databricks.national import DatabricksNational\n",
    "from nhp.model.helpers import load_params\n",
    "from nhp.model.run import run_all"
   ]
  },
  {
   "cell_type": "code",
   "execution_count": null,
   "metadata": {},
   "outputs": [],
   "source": [
    "mp.set_start_method(\"spawn\", force=True)"
   ]
  },
  {
   "cell_type": "code",
   "execution_count": null,
   "metadata": {},
   "outputs": [],
   "source": [
    "spark = DatabricksSession.builder.getOrCreate()\n",
    "w = WorkspaceClient()\n",
    "dbutils = w.dbutils"
   ]
  },
  {
   "cell_type": "markdown",
   "metadata": {},
   "source": [
    "## Get the notebook parameters"
   ]
  },
  {
   "cell_type": "code",
   "execution_count": 0,
   "metadata": {
    "application/vnd.databricks.v1+cell": {
     "cellMetadata": {
      "byteLimit": 2048000,
      "rowLimit": 10000
     },
     "inputWidgets": {},
     "nuid": "abd5c982-6980-40b2-8f37-3191881adc7e",
     "showTitle": false,
     "tableResultSettingsMap": {},
     "title": ""
    }
   },
   "outputs": [],
   "source": [
    "params_path = dbutils.widgets.get(\"params_path\")\n",
    "\n",
    "data_path  = dbutils.widgets.get(\"data_path\")\n",
    "save_full_model_results = dbutils.widgets.get(\"save_full_model_results\") == \"True\"\n",
    "# TODO: this will need to be updated with each new release manually\n",
    "outputs_version = \"v4.1\""
   ]
  },
  {
   "cell_type": "markdown",
   "metadata": {},
   "source": [
    "## Load the model run parameters"
   ]
  },
  {
   "cell_type": "code",
   "execution_count": 0,
   "metadata": {
    "application/vnd.databricks.v1+cell": {
     "cellMetadata": {},
     "inputWidgets": {},
     "nuid": "c0241707-aae1-4ab4-b0a8-72eae5d46a5c",
     "showTitle": false,
     "tableResultSettingsMap": {},
     "title": ""
    }
   },
   "outputs": [],
   "source": [
    "params = load_params(params_path)\n",
    "\n",
    "params[\"create_datetime\"] = f\"{datetime.now():%Y%m%d_%H%M%S}\"\n",
    "\n",
    "metadata = {\n",
    "    k: str(v)\n",
    "    for k, v in params.items()\n",
    "    if not isinstance(v, dict) and not isinstance(v, list)\n",
    "}\n",
    "metadata"
   ]
  },
  {
   "cell_type": "markdown",
   "metadata": {},
   "source": [
    "## Set up the data"
   ]
  },
  {
   "cell_type": "code",
   "execution_count": 0,
   "metadata": {
    "application/vnd.databricks.v1+cell": {
     "cellMetadata": {},
     "inputWidgets": {},
     "nuid": "819cdc9f-04f7-45e2-8599-abe4b03eee5d",
     "showTitle": false,
     "tableResultSettingsMap": {},
     "title": ""
    }
   },
   "outputs": [],
   "source": [
    "nhp_data = DatabricksNational.create(spark, data_path, sample_rate = 0.01, seed = params[\"seed\"])"
   ]
  },
  {
   "cell_type": "markdown",
   "metadata": {},
   "source": [
    "## Run the model"
   ]
  },
  {
   "cell_type": "code",
   "execution_count": 0,
   "metadata": {
    "application/vnd.databricks.v1+cell": {
     "cellMetadata": {},
     "inputWidgets": {},
     "nuid": "444bef9a-3328-4993-9aa9-28dff53851c6",
     "showTitle": false,
     "tableResultSettingsMap": {},
     "title": ""
    }
   },
   "outputs": [],
   "source": [
    "saved_files, json_filename = run_all(params, nhp_data, save_full_model_results=save_full_model_results)\n",
    "print(f\"saved files: {saved_files}\")\n",
    "print(f\"json path: {json_filename}\")"
   ]
  },
  {
   "cell_type": "markdown",
   "metadata": {},
   "source": [
    "## Upload results"
   ]
  },
  {
   "cell_type": "code",
   "execution_count": null,
   "metadata": {},
   "outputs": [],
   "source": [
    "blob_client = BlobServiceClient(\"https://nhpsa.blob.core.windows.net\", credential=ManagedIdentityCredential())\n",
    "cont = blob_client.get_container_client(\"results\")"
   ]
  },
  {
   "cell_type": "markdown",
   "metadata": {},
   "source": [
    "### Upload compressed JSON results\n",
    "\n",
    "Should be removed in future versions of the model"
   ]
  },
  {
   "cell_type": "code",
   "execution_count": null,
   "metadata": {},
   "outputs": [],
   "source": [
    "with open(f\"results/{json_filename}.json\", \"rb\") as f:\n",
    "    zipped_results = gzip.compress(f.read())\n",
    "    \n",
    "cont.upload_blob(\n",
    "    f\"prod/{outputs_version}/{json_filename}.json.gz\",\n",
    "    zipped_results,\n",
    "    metadata=metadata,\n",
    "    overwrite=True,\n",
    ")\n",
    "\n",
    "# TODO: make the model return the objects or allow a results path to be passed in\n",
    "# make sure to remove the file from databricks storage [in the asset bundle deployment]\n",
    "os.unlink(f\"results/{json_filename}.json\")"
   ]
  },
  {
   "cell_type": "markdown",
   "metadata": {},
   "source": [
    "### Upload the parquet files"
   ]
  },
  {
   "cell_type": "code",
   "execution_count": null,
   "metadata": {},
   "outputs": [],
   "source": [
    "for file in saved_files:\n",
    "    filename = file[8:]\n",
    "    with open(file, \"rb\") as f:\n",
    "        cont.upload_blob(\n",
    "            f\"aggregated-model-results/{outputs_version}/{filename}\",\n",
    "            f.read(),\n",
    "            overwrite=True,\n",
    "        )\n",
    "        # make sure to remove the file from databricks storage [in the asset bundle deployment]\n",
    "        os.unlink(file)"
   ]
  },
  {
   "cell_type": "markdown",
   "metadata": {},
   "source": [
    "### Save the full model results"
   ]
  },
  {
   "cell_type": "code",
   "execution_count": null,
   "metadata": {},
   "outputs": [],
   "source": [
    "if save_full_model_results:\n",
    "    from pathlib import Path\n",
    "\n",
    "    # Save the IP full model results to storage\n",
    "    # From docker_run._upload_full_model_results\n",
    "    dataset = params[\"dataset\"]\n",
    "    scenario = params[\"scenario\"]\n",
    "    create_datetime = params[\"create_datetime\"]\n",
    "\n",
    "    path = Path(f\"results/{dataset}/{scenario}/{create_datetime}\")\n",
    "    for file in path.glob(\"**/*.parquet\"):\n",
    "        filename = file.as_posix()[8:]\n",
    "        with open(file, \"rb\") as f:\n",
    "            cont.upload_blob(\n",
    "                f\"full-model-results/{outputs_version}/{filename}\",\n",
    "                f.read(),\n",
    "                overwrite=True,\n",
    "            )\n",
    "        # make sure to remove the file from databricks storage [in the asset bundle deployment]\n",
    "        os.unlink(file)"
   ]
  },
  {
   "cell_type": "markdown",
   "metadata": {},
   "source": [
    "## Remove the params file from the queue"
   ]
  },
  {
   "cell_type": "code",
   "execution_count": null,
   "metadata": {},
   "outputs": [],
   "source": [
    "# remove the file from the queue\n",
    "os.unlink(params_path)"
   ]
  }
 ],
 "metadata": {
  "application/vnd.databricks.v1+notebook": {
   "computePreferences": {
    "hardware": {
     "accelerator": null,
     "gpuPoolId": null,
     "memory": null
    }
   },
   "dashboards": [],
   "environmentMetadata": {
    "base_environment": "",
    "environment_version": "3"
   },
   "inputWidgetPreferences": null,
   "language": "python",
   "notebookMetadata": {
    "pythonIndentUnit": 4
   },
   "notebookName": "Untitled Notebook 2025-09-22 16_10_29",
   "widgets": {
    "data_path": {
     "currentValue": "/Volumes/nhp/model_data/files/dev",
     "nuid": "3e2e4216-98f2-4b54-971f-079517f9e469",
     "typedWidgetInfo": {
      "autoCreated": false,
      "defaultValue": "/Volumes/nhp/model_data/files/dev",
      "label": "Data Path",
      "name": "data_path",
      "options": {
       "validationRegex": null,
       "widgetDisplayType": "Text"
      },
      "parameterDataType": "String"
     },
     "widgetInfo": {
      "defaultValue": "/Volumes/nhp/model_data/files/dev",
      "label": "Data Path",
      "name": "data_path",
      "options": {
       "autoCreated": false,
       "validationRegex": null,
       "widgetType": "text"
      },
      "widgetType": "text"
     }
    },
    "params_path": {
     "currentValue": "test",
     "nuid": "b7de9d92-3295-4ac7-a6d9-36d38b369d44",
     "typedWidgetInfo": {
      "autoCreated": false,
      "defaultValue": "",
      "label": "Params Path",
      "name": "params_path",
      "options": {
       "validationRegex": null,
       "widgetDisplayType": "Text"
      },
      "parameterDataType": "String"
     },
     "widgetInfo": {
      "defaultValue": "",
      "label": "Params Path",
      "name": "params_path",
      "options": {
       "autoCreated": false,
       "validationRegex": null,
       "widgetType": "text"
      },
      "widgetType": "text"
     }
    },
    "save_full_model_results": {
     "currentValue": "False",
     "nuid": "f52b1812-d248-40cf-ac4f-313a73224e02",
     "typedWidgetInfo": {
      "autoCreated": false,
      "defaultValue": "False",
      "label": "Save Full Model Results",
      "name": "save_full_model_results",
      "options": {
       "choices": [
        "True",
        "False"
       ],
       "fixedDomain": true,
       "multiselect": false,
       "widgetDisplayType": "Dropdown"
      },
      "parameterDataType": "String"
     },
     "widgetInfo": {
      "defaultValue": "False",
      "label": "Save Full Model Results",
      "name": "save_full_model_results",
      "options": {
       "autoCreated": false,
       "choices": [
        "True",
        "False"
       ],
       "widgetType": "dropdown"
      },
      "widgetType": "dropdown"
     }
    }
   }
  },
  "language_info": {
   "name": "python"
  }
 },
 "nbformat": 4,
 "nbformat_minor": 0
}

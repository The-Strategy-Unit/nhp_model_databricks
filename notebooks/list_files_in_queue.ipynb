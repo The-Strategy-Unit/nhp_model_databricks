{
 "cells": [
  {
   "cell_type": "code",
   "execution_count": null,
   "id": "82e4dd9e",
   "metadata": {},
   "outputs": [],
   "source": [
    "import json\n",
    "from databricks.connect import DatabricksSession\n",
    "from databricks.sdk import WorkspaceClient\n",
    "\n",
    "spark = DatabricksSession.builder.getOrCreate()\n",
    "w = WorkspaceClient()\n",
    "dbutils = w.dbutils"
   ]
  },
  {
   "cell_type": "code",
   "execution_count": null,
   "id": "3bf8c029",
   "metadata": {},
   "outputs": [],
   "source": [
    "queue_path = dbutils.widgets.get(\"queue_path\")"
   ]
  },
  {
   "cell_type": "code",
   "execution_count": null,
   "id": "96d26c59",
   "metadata": {},
   "outputs": [],
   "source": [
    "files = [f\"{queue_path}/{f.name}\" for f in dbutils.fs.ls(queue_path)]\n",
    "dbutils.jobs.taskValues.set(key=\"file_list\", value=json.dumps(files))"
   ]
  },
  {
   "cell_type": "code",
   "execution_count": null,
   "id": "04e11284",
   "metadata": {},
   "outputs": [],
   "source": [
    "print(\"running the model with these files:\")\n",
    "for i in files:\n",
    "    print(f\"* {i}\")"
   ]
  }
 ],
 "metadata": {
  "kernelspec": {
   "display_name": "nhp-model-databricks",
   "language": "python",
   "name": "python3"
  },
  "language_info": {
   "name": "python",
   "version": "3.13.3"
  }
 },
 "nbformat": 4,
 "nbformat_minor": 5
}
